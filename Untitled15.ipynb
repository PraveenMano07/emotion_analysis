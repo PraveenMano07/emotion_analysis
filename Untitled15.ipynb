{
  "nbformat": 4,
  "nbformat_minor": 0,
  "metadata": {
    "colab": {
      "provenance": []
    },
    "kernelspec": {
      "name": "python3",
      "display_name": "Python 3"
    },
    "language_info": {
      "name": "python"
    }
  },
  "cells": [
    {
      "cell_type": "code",
      "execution_count": null,
      "metadata": {
        "id": "qdnJ_D9EHqDv"
      },
      "outputs": [],
      "source": [
        "import pandas as pd\n",
        "import matplotlib.pyplot as plt\n",
        "import seaborn as sns\n",
        "from sklearn.model_selection import train_test_split\n",
        "from sklearn.feature_extraction.text import TfidfVectorizer\n",
        "from sklearn.linear_model import LogisticRegression\n",
        "from sklearn.metrics import classification_report, confusion_matrix\n",
        "\n",
        "# 1. Load dataset from train.txt\n",
        "def load_dataset(file_path):\n",
        "    texts = []\n",
        "    labels = []\n",
        "    with open(file_path, 'r', encoding='utf-8') as file:\n",
        "        for line in file:\n",
        "            if ';' in line:\n",
        "                parts = line.strip().split(';')\n",
        "                if len(parts) == 2:\n",
        "                    texts.append(parts[0])\n",
        "                    labels.append(parts[1])\n",
        "    return pd.DataFrame({'text': texts, 'label': labels})\n",
        "\n",
        "df = load_dataset(\"train.txt\")\n",
        "print(\"Loaded dataset:\")\n",
        "print(df.head())\n",
        "\n",
        "# 2. Train-test split\n",
        "X = df['text']\n",
        "y = df['label']\n",
        "X_train, X_test, y_train, y_test = train_test_split(X, y, test_size=0.2, random_state=42)\n",
        "\n",
        "# 3. TF-IDF Vectorization\n",
        "vectorizer = TfidfVectorizer(stop_words='english', max_features=5000)\n",
        "X_train_vec = vectorizer.fit_transform(X_train)\n",
        "X_test_vec = vectorizer.transform(X_test)\n",
        "\n",
        "# 4. Model Training\n",
        "model = LogisticRegression(max_iter=1000)\n",
        "model.fit(X_train_vec, y_train)\n",
        "\n",
        "# 5. Evaluation\n",
        "y_pred = model.predict(X_test_vec)\n",
        "\n",
        "print(\"\\nClassification Report:\")\n",
        "print(classification_report(y_test, y_pred))\n",
        "\n",
        "# 6. Confusion Matrix\n",
        "plt.figure(figsize=(8, 6))\n",
        "labels_sorted = sorted(model.classes_)\n",
        "sns.heatmap(confusion_matrix(y_test, y_pred, labels=labels_sorted),\n",
        "            annot=True, fmt='d',\n",
        "            xticklabels=labels_sorted,\n",
        "            yticklabels=labels_sorted,\n",
        "            cmap='Blues')\n",
        "plt.xlabel(\"Predicted\")\n",
        "plt.ylabel(\"Actual\")\n",
        "plt.title(\"Confusion Matrix\")\n",
        "plt.tight_layout()\n",
        "\n",
        "\n",
        "# 7. User Input Prediction\n",
        "def predict_emotion(text):\n",
        "    vec = vectorizer.transform([text])\n",
        "    pred = model.predict(vec)[0]\n",
        "    prob = model.predict_proba(vec).max()\n",
        "    print(f\"\\n🗣 Input: {text}\\n🎯 Predicted Emotion: {pred} (Confidence: {prob:.2f})\")\n",
        "\n",
        "# Run prediction\n",
        "a = input(\"Enter a sentence to analyze emotion: \")\n",
        "predict_emotion(a)"
      ]
    }
  ]
}